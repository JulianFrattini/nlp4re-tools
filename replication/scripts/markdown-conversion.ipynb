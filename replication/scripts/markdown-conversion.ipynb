{
 "cells": [
  {
   "cell_type": "code",
   "execution_count": 46,
   "metadata": {},
   "outputs": [],
   "source": [
    "import pandas as pd"
   ]
  },
  {
   "cell_type": "code",
   "execution_count": 47,
   "metadata": {},
   "outputs": [],
   "source": [
    "# load the data\n",
    "df = pd.read_excel('../data/nlp4re-tools-data.xlsx', sheet_name='Potential Articles', skiprows=2)\n",
    "\n",
    "# filter for articles that have been included\n",
    "dfinc = df[df['Verdict']=='included']"
   ]
  },
  {
   "cell_type": "code",
   "execution_count": 48,
   "metadata": {},
   "outputs": [],
   "source": [
    "# determine the used licenses\n",
    "license_codes = pd.read_excel('../data/nlp4re-tools-data.xlsx', sheet_name='Codes License', usecols=['Code', 'License Link'], skipfooter=1).set_index('Code')\n",
    "licenses: dict = license_codes.to_dict()['License Link']\n",
    "\n",
    "# remove irrelevant entries\n",
    "del licenses['Unknown']\n",
    "del licenses['None']"
   ]
  },
  {
   "cell_type": "code",
   "execution_count": 49,
   "metadata": {},
   "outputs": [],
   "source": [
    "header = f\"# NLP4RE Tools\\n\\nThis list contains the {len(dfinc)} NLP4RE (natural langauge processing for requirements engineering) tools extracted from the 12 most prominent venues according to Zhao et al. [1] from 2019-2023.\\n\\n[1] Zhao, L., Alhoshan, W., Ferrari, A., Letsholo, K. J., Ajagbe, M. A., Chioasca, E. V., & Batista-Navarro, R. T. (2021). Natural language processing for requirements engineering: A systematic mapping study. ACM Computing Surveys (CSUR), 54(3), 1-41.\""
   ]
  },
  {
   "cell_type": "code",
   "execution_count": 50,
   "metadata": {},
   "outputs": [],
   "source": [
    "tools = \"## Tools\\n\\nIn the following list, the R-ID column refers to the [reference](#references) in which the respective tool has been presented.\\n\\n| R-ID | Name | License | Description | RE Activity | Task |\\n|---|---|---|---|---|---|\"\n",
    "\n",
    "for index, row in dfinc.iterrows():\n",
    "    # add the reference to the containing article\n",
    "    tool = f\"\\n| {row['ID']} | \"\n",
    "\n",
    "    # add the tool's name (and optionally a link to the tool's source, if available)\n",
    "    if row['Availability'] in ['Archived', 'Open Source', 'Reachable']:\n",
    "        tool += f\"[{row['Name']}]({row['Source']}) |\"\n",
    "        # in case the tool's license is specified, name and link to the license\n",
    "        if row['License'] in licenses:\n",
    "            tool += f\"[{row['License']}]({licenses[row['License']]}) |\"\n",
    "        else:\n",
    "            tool += \" |\"\n",
    "    else:\n",
    "        tool += f\"{row['Name']} | | \"\n",
    "    \n",
    "    # add the tool's description, activity, and task type attribute\n",
    "    tool += f\"{row['Description']} | {row['RE Activity']} | {row['Tool Task']} |\"\n",
    "    tools += tool"
   ]
  },
  {
   "cell_type": "code",
   "execution_count": 54,
   "metadata": {},
   "outputs": [],
   "source": [
    "references = \"## References\\n\\nThe tools were extracted from the following publications.\\n\\n| R-ID | Citation | Venue | Year|\\n|---|---|---|---|\"\n",
    "\n",
    "# add the ID, citation string, venue and year of each reference\n",
    "for index, row in dfinc.iterrows():\n",
    "    references += f\"\\n| {row['ID']} | {row['Reference']} | {row['Venue']} | {row['Year']} |\""
   ]
  },
  {
   "cell_type": "code",
   "execution_count": 56,
   "metadata": {},
   "outputs": [],
   "source": [
    "# assemble the three paragraphs\n",
    "paragraphs = [header, tools, references]\n",
    "\n",
    "# output the paragraphs to the markdown file\n",
    "with open('./../../tools/nlp4re-tools.md', 'w', encoding='utf-8') as f:\n",
    "    f.write(\"\\n\\n\".join(paragraphs))"
   ]
  }
 ],
 "metadata": {
  "kernelspec": {
   "display_name": ".venv",
   "language": "python",
   "name": "python3"
  },
  "language_info": {
   "codemirror_mode": {
    "name": "ipython",
    "version": 3
   },
   "file_extension": ".py",
   "mimetype": "text/x-python",
   "name": "python",
   "nbconvert_exporter": "python",
   "pygments_lexer": "ipython3",
   "version": "3.10.0"
  },
  "orig_nbformat": 4
 },
 "nbformat": 4,
 "nbformat_minor": 2
}
