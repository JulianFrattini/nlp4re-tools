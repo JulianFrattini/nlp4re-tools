{
 "cells": [
  {
   "cell_type": "code",
   "execution_count": 1,
   "metadata": {},
   "outputs": [],
   "source": [
    "import pandas as pd\n",
    "\n",
    "import matplotlib.pyplot as plt\n",
    "import seaborn as sns"
   ]
  },
  {
   "cell_type": "code",
   "execution_count": 2,
   "metadata": {},
   "outputs": [],
   "source": [
    "# Variables\n",
    "activities: list[str] = ['Elicitation', 'Analysis', 'Modeling', 'Validation & Verification', 'Management', 'Other']\n",
    "tasks: list[str] = ['Detection', 'Extraction', 'Classification', 'Modeling', 'Tracing & Relating', 'Search & Retrieval', 'Generation']\n",
    "availability: list[str] = ['Proprietary', 'Private', 'Unavailable', 'Broken', 'Upon Request', 'Reachable', 'Open Source', 'Archived']\n",
    "availability_color = {\n",
    "    'Proprietary': '#424242', \n",
    "    'Private': '#b8b8b8', \n",
    "    'Unavailable': '#990000', \n",
    "    'Broken': '#e69238', \n",
    "    'Upon Request': '#bf9000', \n",
    "    'Reachable': '#f1c132', \n",
    "    'Open Source': '#6aa84f', \n",
    "    'Archived': '#0000ff'\n",
    "}\n",
    "venues: list[str] = ['RE', 'REFSQ', 'REJ', 'AIRE', 'JSS', 'ASE', 'DKE', 'ICSE', 'IST', 'NLP4RE', 'TSE', 'SAC']\n",
    "years: list[int] = [2019, 2020, 2021, 2022, 2023]"
   ]
  },
  {
   "cell_type": "code",
   "execution_count": 4,
   "metadata": {},
   "outputs": [],
   "source": [
    "# load the data\n",
    "df = pd.read_excel('../data/nlp4re-tools-data.xlsx', sheet_name='Potential Articles', skiprows=2)\n",
    "\n",
    "# filter for articles that have been included\n",
    "dfinc = df[df['Verdict']=='included']"
   ]
  },
  {
   "cell_type": "code",
   "execution_count": null,
   "metadata": {},
   "outputs": [],
   "source": [
    "# determine the amount of included papers per year per venue\n",
    "combinations: dict = df[['Venue', 'Year']].value_counts().to_dict()\n",
    "\n",
    "matrix = {venue: [0]*len(years) for venue in venues}\n",
    "for venue in venues:\n",
    "    for year in years:\n",
    "        amount = 0\n",
    "        if (venue, year) in combinations:\n",
    "            amount = combinations[(venue,year)]\n",
    "        matrix[venue][years.index(year)] = amount\n",
    "\n",
    "dfmatrix = pd.DataFrame.from_dict(matrix, orient='index', columns=years)\n",
    "\n",
    "# visualize the matrix as a heatmap\n",
    "plt.figure(figsize=(5,4))\n",
    "viz = sns.heatmap(data=dfmatrix, cmap='mako_r', annot=True)\n",
    "viz.set(title='Number of included papers by venue and year', xlabel='Year', ylabel='Venue')\n",
    "\n",
    "plt.savefig(fname=f'../figures/matrix-inclusion.pdf', format='pdf', bbox_inches='tight')\n",
    "plt.show()"
   ]
  },
  {
   "cell_type": "code",
   "execution_count": null,
   "metadata": {},
   "outputs": [],
   "source": [
    "# determine the amount of tools per activity x task combination\n",
    "combinations: dict = df[['RE Activity', 'Tool Task']].value_counts().to_dict()\n",
    "\n",
    "# construct a matrix\n",
    "matrix = {activity: [0]*len(tasks) for activity in activities}\n",
    "for activity in activities:\n",
    "    for tid, task in enumerate(tasks):\n",
    "        amount = 0\n",
    "        if (activity, task) in combinations:\n",
    "            amount = combinations[(activity, task)]\n",
    "        matrix[activity][tasks.index(task)] = amount\n",
    "\n",
    "# turn the matrix back into a dataframe\n",
    "dfmatrix = pd.DataFrame.from_dict(matrix, orient='index', columns=tasks)\n",
    "\n",
    "# visualize the matrix as a heatmap\n",
    "plt.figure(figsize=(4,3))\n",
    "viz = sns.heatmap(data=dfmatrix, cmap='mako_r', annot=True)\n",
    "viz.set(title='Tools by Activity and Task Type', xlabel='Task Type', ylabel='RE Activity')\n",
    "\n",
    "plt.savefig(fname=f'../figures/matrix-tools.pdf', format='pdf', bbox_inches='tight')\n",
    "plt.show()"
   ]
  },
  {
   "cell_type": "code",
   "execution_count": null,
   "metadata": {},
   "outputs": [],
   "source": [
    "availability_count: dict = df['Availability'].value_counts().to_dict()\n",
    "availability_count_ordered = {code: (availability_count[code] if (code in availability_count) else 0) for code in availability}\n",
    "\n",
    "plt.figure(figsize=(4, 3))\n",
    "ax = plt.subplot()\n",
    "bar = plt.bar(x=availability_count_ordered.keys(), height=availability_count_ordered.values(), width=0.9, color=availability_color.values())\n",
    "ax.bar_label(bar, padding=2)\n",
    "\n",
    "plt.title('Distribution of tool availability')\n",
    "plt.xlabel('Availability codes')\n",
    "plt.ylabel('Frequency')\n",
    "plt.xticks(rotation=90, ha='right')\n",
    "\n",
    "plt.savefig(fname='../figures/distribution-availability.pdf', format='pdf', bbox_inches='tight')\n",
    "plt.show()"
   ]
  },
  {
   "cell_type": "code",
   "execution_count": 6,
   "metadata": {},
   "outputs": [
    {
     "data": {
      "image/png": "[encoded data removed]",
      "text/plain": [
       "<Figure size 400x300 with 1 Axes>"
      ]
     },
     "metadata": {},
     "output_type": "display_data"
    }
   ],
   "source": [
    "license_count: dict = dfinc['License'].value_counts().to_dict()\n",
    "\n",
    "plt.figure(figsize=(4, 3))\n",
    "ax = plt.subplot()\n",
    "bar = plt.bar(x=license_count.keys(), height=license_count.values(), width=0.9)\n",
    "ax.bar_label(bar, padding=2)\n",
    "\n",
    "plt.title('Distribution of licenses')\n",
    "plt.ylabel('Frequency')\n",
    "plt.xticks(rotation=90, ha='right')\n",
    "\n",
    "plt.savefig(fname='../figures/distribution-licenses.pdf', format='pdf', bbox_inches='tight')\n",
    "plt.show()"
   ]
  }
 ],
 "metadata": {
  "kernelspec": {
   "display_name": ".venv",
   "language": "python",
   "name": "python3"
  },
  "language_info": {
   "codemirror_mode": {
    "name": "ipython",
    "version": 3
   },
   "file_extension": ".py",
   "mimetype": "text/x-python",
   "name": "python",
   "nbconvert_exporter": "python",
   "pygments_lexer": "ipython3",
   "version": "3.10.0"
  },
  "orig_nbformat": 4
 },
 "nbformat": 4,
 "nbformat_minor": 2
}
